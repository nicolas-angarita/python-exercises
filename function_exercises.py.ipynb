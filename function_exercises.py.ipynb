{
 "cells": [
  {
   "cell_type": "markdown",
   "id": "72335733",
   "metadata": {},
   "source": [
    "1. Define a function named is_two. It should accept one input and return True if the passed input is either the number or the string 2, False otherwise"
   ]
  },
  {
   "cell_type": "code",
   "execution_count": 169,
   "id": "f1c4498b",
   "metadata": {},
   "outputs": [
    {
     "data": {
      "text/plain": [
       "True"
      ]
     },
     "execution_count": 169,
     "metadata": {},
     "output_type": "execute_result"
    }
   ],
   "source": [
    "\n",
    "def is_two(x):\n",
    "    return x == 2 or x == \"2\"\n",
    "\n",
    "is_two('2')"
   ]
  },
  {
   "cell_type": "code",
   "execution_count": 170,
   "id": "e82417bd",
   "metadata": {},
   "outputs": [
    {
     "data": {
      "text/plain": [
       "False"
      ]
     },
     "execution_count": 170,
     "metadata": {},
     "output_type": "execute_result"
    }
   ],
   "source": [
    "is_two(3)"
   ]
  },
  {
   "cell_type": "code",
   "execution_count": 171,
   "id": "c0b86f89",
   "metadata": {},
   "outputs": [
    {
     "data": {
      "text/plain": [
       "True"
      ]
     },
     "execution_count": 171,
     "metadata": {},
     "output_type": "execute_result"
    }
   ],
   "source": [
    "is_two(2)"
   ]
  },
  {
   "cell_type": "markdown",
   "id": "f02c9e69",
   "metadata": {},
   "source": [
    "2. Define a function named is_vowel. It should return True if the passed string is a vowel, False otherwise."
   ]
  },
  {
   "cell_type": "code",
   "execution_count": 172,
   "id": "9e059877",
   "metadata": {},
   "outputs": [
    {
     "name": "stdout",
     "output_type": "stream",
     "text": [
      "True\n",
      "False\n"
     ]
    }
   ],
   "source": [
    "def is_vowel(x):\n",
    "   \n",
    "    return  x in ['a', 'e', 'i', 'o', 'u']\n",
    "\n",
    "print(is_vowel('a'))\n",
    "print(is_vowel('t'))"
   ]
  },
  {
   "cell_type": "code",
   "execution_count": 174,
   "id": "479994e7",
   "metadata": {},
   "outputs": [
    {
     "data": {
      "text/plain": [
       "True"
      ]
     },
     "execution_count": 174,
     "metadata": {},
     "output_type": "execute_result"
    }
   ],
   "source": [
    "is_vowel('i')"
   ]
  },
  {
   "cell_type": "markdown",
   "id": "3e7ef19b",
   "metadata": {},
   "source": [
    "3. Define a function named is_consonant. It should return True if the passed string is a consonant, False otherwise. Use your is_vowel function to accomplish this."
   ]
  },
  {
   "cell_type": "code",
   "execution_count": 184,
   "id": "8a8c9265",
   "metadata": {},
   "outputs": [
    {
     "name": "stdout",
     "output_type": "stream",
     "text": [
      "False\n",
      "True\n",
      "True\n"
     ]
    }
   ],
   "source": [
    "is_vowel = ['a', 'e', 'i', 'o', 'u']\n",
    "\n",
    "def is_consonant(c):\n",
    "    return c not in is_vowel\n",
    "\n",
    "\n",
    "print(is_consonant('a'))\n",
    "print(is_consonant('t'))\n",
    "print(is_consonant('v'))"
   ]
  },
  {
   "cell_type": "code",
   "execution_count": 185,
   "id": "15947850",
   "metadata": {},
   "outputs": [
    {
     "data": {
      "text/plain": [
       "True"
      ]
     },
     "execution_count": 185,
     "metadata": {},
     "output_type": "execute_result"
    }
   ],
   "source": [
    "is_consonant('g')"
   ]
  },
  {
   "cell_type": "markdown",
   "id": "e4577a24",
   "metadata": {},
   "source": [
    "4. Define a function that accepts a string that is a word. The function should capitalize the first letter of the word if the word starts with a consonant."
   ]
  },
  {
   "cell_type": "code",
   "execution_count": 186,
   "id": "8f33b015",
   "metadata": {},
   "outputs": [
    {
     "name": "stdout",
     "output_type": "stream",
     "text": [
      "Test\n",
      "apple\n",
      "Code up\n",
      "Dog\n"
     ]
    }
   ],
   "source": [
    "is_vowel = 'aeiou'\n",
    "\n",
    "def my_word(x):\n",
    "    if x[0].lower() in is_vowel:\n",
    "    \n",
    "        print(x)\n",
    "    \n",
    "    else:   \n",
    "        \n",
    "        print(x.capitalize())\n",
    "    \n",
    "\n",
    "#should have if statement b/c has to start with constant\n",
    "\n",
    "my_word('test')\n",
    "my_word('apple')\n",
    "my_word('code up')\n",
    "my_word('dog')"
   ]
  },
  {
   "cell_type": "markdown",
   "id": "5eb1e079",
   "metadata": {},
   "source": [
    "5. Define a function named calculate_tip. It should accept a tip percentage (a number between 0 and 1) and the bill total, and return the amount to tip."
   ]
  },
  {
   "cell_type": "code",
   "execution_count": 189,
   "id": "96da137d",
   "metadata": {},
   "outputs": [],
   "source": [
    "def calculate_tip():\n",
    "        bill_total = float(input('What is your bill total?: $'))\n",
    "        tip_percent = float(input('What percent do you want to tip?: '))\n",
    "\n",
    "\n",
    "        tip_amount = round(bill_total * (tip_percent/100), 2)\n",
    "\n",
    "        print(f'Your total tip is ${tip_amount}')\n",
    "    "
   ]
  },
  {
   "cell_type": "code",
   "execution_count": 190,
   "id": "d865a75c",
   "metadata": {},
   "outputs": [
    {
     "name": "stdout",
     "output_type": "stream",
     "text": [
      "What is your bill total?: $10\n",
      "What percent do you want to tip?: 5\n",
      "Your total tip is $0.5\n"
     ]
    }
   ],
   "source": [
    "calculate_tip()"
   ]
  },
  {
   "cell_type": "markdown",
   "id": "77f3307e",
   "metadata": {},
   "source": [
    "6. Define a function named apply_discount. It should accept a original price, and a discount percentage, and return the price after the discount is applied."
   ]
  },
  {
   "cell_type": "code",
   "execution_count": 192,
   "id": "d5fe598a",
   "metadata": {},
   "outputs": [],
   "source": [
    "\n",
    "def apply_discount(op, discount):\n",
    "    \n",
    "    discount = discount / 100\n",
    "    \n",
    "    total = op - (op * discount)\n",
    "    \n",
    "    print(total)"
   ]
  },
  {
   "cell_type": "code",
   "execution_count": 26,
   "id": "b5c1c66f",
   "metadata": {},
   "outputs": [
    {
     "name": "stdout",
     "output_type": "stream",
     "text": [
      "7.5\n"
     ]
    }
   ],
   "source": [
    "apply_discount(10,25)"
   ]
  },
  {
   "cell_type": "markdown",
   "id": "84670987",
   "metadata": {},
   "source": [
    "7. Define a function named handle_commas. It should accept a string that is a number that contains commas in it as input, and return a number as output."
   ]
  },
  {
   "cell_type": "code",
   "execution_count": 201,
   "id": "91757550",
   "metadata": {},
   "outputs": [],
   "source": [
    "\n",
    "def handle_commas(string):\n",
    "        string = string.replace(\",\", \"\")\n",
    "        return string\n"
   ]
  },
  {
   "cell_type": "code",
   "execution_count": 203,
   "id": "f8793ff9",
   "metadata": {},
   "outputs": [
    {
     "data": {
      "text/plain": [
       "'1342'"
      ]
     },
     "execution_count": 203,
     "metadata": {},
     "output_type": "execute_result"
    }
   ],
   "source": [
    "handle_commas('1,342')"
   ]
  },
  {
   "cell_type": "markdown",
   "id": "1978b79a",
   "metadata": {},
   "source": [
    "8. Define a function named get_letter_grade. It should accept a number and return the letter grade associated with that number (A-F)."
   ]
  },
  {
   "cell_type": "code",
   "execution_count": 8,
   "id": "a578ad8e",
   "metadata": {},
   "outputs": [
    {
     "name": "stdout",
     "output_type": "stream",
     "text": [
      "What is your number? 93\n",
      "A\n"
     ]
    }
   ],
   "source": [
    "grade = int(input('What is your number? '))\n",
    "\n",
    "def get_letter_grade(x):\n",
    "    \n",
    "\n",
    "    \n",
    "    if x >= 90: \n",
    "        print('A')\n",
    "    \n",
    "    elif x >= 80:\n",
    "        print('B')\n",
    "        \n",
    "    elif x >= 70:\n",
    "        print('C')\n",
    "        \n",
    "    elif x >= 60:\n",
    "        print('D')\n",
    "        \n",
    "    else:\n",
    "        print('F')\n",
    "        \n",
    "        \n",
    "        \n",
    "get_letter_grade(grade)"
   ]
  },
  {
   "cell_type": "markdown",
   "id": "31e4a576",
   "metadata": {},
   "source": [
    "9. Define a function named remove_vowels that accepts a string and returns a string with all the vowels removed."
   ]
  },
  {
   "cell_type": "code",
   "execution_count": 214,
   "id": "36921a28",
   "metadata": {},
   "outputs": [
    {
     "name": "stdout",
     "output_type": "stream",
     "text": [
      "Please type a word: nick Angarita\n",
      "NCK ANGARTA\n"
     ]
    }
   ],
   "source": [
    "new_word = input(\"Please type a word: \")\n",
    "\n",
    "\n",
    "def remove_vowel(word):\n",
    "    is_vowel = ('a', 'e', 'i', 'o', 'u')\n",
    "    for x in word.lower():\n",
    "        if x in is_vowel:\n",
    "            word = word.replace(x,\"\")\n",
    "            word = word.upper()\n",
    "    print(word)        \n",
    "    \n",
    "\n",
    "remove_vowel(new_word)"
   ]
  },
  {
   "cell_type": "markdown",
   "id": "0d854462",
   "metadata": {},
   "source": [
    "10. Define a function named normalize_name. It should accept a string and return a valid python identifier, that is:\n",
    " - anything that is not a valid python identifier should be removed\n",
    " - leading and trailing whitespace should be removed\n",
    " - everything should be lowercase\n",
    " - spaces should be replaced with underscores\n",
    "for example:\n",
    " - Name will become name\n",
    " - First Name will become first_name\n",
    " - % Completed will become completed"
   ]
  },
  {
   "cell_type": "code",
   "execution_count": 207,
   "id": "861516c9",
   "metadata": {},
   "outputs": [],
   "source": [
    "def normalize_name(string):\n",
    "    string = string.replace(\"$\", \"\")\n",
    "    string = string.replace(\"%\", \"\")\n",
    "    string = string.replace(\"?\", \"\")\n",
    "    string = string.replace(\"!\", \"\")\n",
    "    string = string.replace(\" \", \"_\")\n",
    "    string = string.lower()\n",
    "    \n",
    "    return string"
   ]
  },
  {
   "cell_type": "code",
   "execution_count": 208,
   "id": "5f8e13fc",
   "metadata": {},
   "outputs": [
    {
     "data": {
      "text/plain": [
       "'test_1'"
      ]
     },
     "execution_count": 208,
     "metadata": {},
     "output_type": "execute_result"
    }
   ],
   "source": [
    "normalize_name('$test 1!')"
   ]
  },
  {
   "cell_type": "markdown",
   "id": "72d5759a",
   "metadata": {},
   "source": [
    "11. Write a function named cumulative_sum that accepts a list of numbers and returns a list that is the cumulative sum of the numbers in the list.\n",
    " - cumulative_sum([1, 1, 1]) returns [1, 2, 3]\n",
    " - cumulative_sum([1, 2, 3, 4]) returns [1, 3, 6, 10]\n"
   ]
  },
  {
   "cell_type": "code",
   "execution_count": 221,
   "id": "b69d4222",
   "metadata": {},
   "outputs": [],
   "source": [
    "\n",
    "def cumulative_sum(nums):\n",
    "    new_list = []\n",
    "    x = 0\n",
    "    for num in nums:\n",
    "        x += num\n",
    "    \n",
    "        new_list.append(x)\n",
    "     \n",
    "    return (new_list)"
   ]
  },
  {
   "cell_type": "code",
   "execution_count": 223,
   "id": "de980700",
   "metadata": {},
   "outputs": [
    {
     "data": {
      "text/plain": [
       "[1, 3, 6, 10]"
      ]
     },
     "execution_count": 223,
     "metadata": {},
     "output_type": "execute_result"
    }
   ],
   "source": [
    "cumulative_sum([1,2,3,4])"
   ]
  },
  {
   "cell_type": "code",
   "execution_count": null,
   "id": "27d83988",
   "metadata": {},
   "outputs": [],
   "source": []
  }
 ],
 "metadata": {
  "kernelspec": {
   "display_name": "Python 3 (ipykernel)",
   "language": "python",
   "name": "python3"
  },
  "language_info": {
   "codemirror_mode": {
    "name": "ipython",
    "version": 3
   },
   "file_extension": ".py",
   "mimetype": "text/x-python",
   "name": "python",
   "nbconvert_exporter": "python",
   "pygments_lexer": "ipython3",
   "version": "3.9.13"
  }
 },
 "nbformat": 4,
 "nbformat_minor": 5
}
