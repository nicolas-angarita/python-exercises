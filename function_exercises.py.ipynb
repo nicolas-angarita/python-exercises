{
 "cells": [
  {
   "cell_type": "markdown",
   "id": "72335733",
   "metadata": {},
   "source": [
    "1. Define a function named is_two. It should accept one input and return True if the passed input is either the number or the string 2, False otherwise"
   ]
  },
  {
   "cell_type": "code",
   "execution_count": 35,
   "id": "f1c4498b",
   "metadata": {},
   "outputs": [
    {
     "name": "stdout",
     "output_type": "stream",
     "text": [
      "False\n",
      "True\n",
      "True\n"
     ]
    }
   ],
   "source": [
    "def is_two(x):\n",
    "    return x == 2 or x == \"2\"\n",
    "\n",
    "print(is_two(3))\n",
    "print(is_two(2))\n",
    "print(is_two(\"2\"))"
   ]
  },
  {
   "cell_type": "markdown",
   "id": "f02c9e69",
   "metadata": {},
   "source": [
    "2. Define a function named is_vowel. It should return True if the passed string is a vowel, False otherwise."
   ]
  },
  {
   "cell_type": "code",
   "execution_count": 41,
   "id": "9e059877",
   "metadata": {},
   "outputs": [
    {
     "name": "stdout",
     "output_type": "stream",
     "text": [
      "True\n",
      "False\n"
     ]
    }
   ],
   "source": [
    "def is_vowel(x):\n",
    "   \n",
    "    return  x in ['a', 'e', 'i', 'o', 'u']\n",
    "\n",
    "print(is_vowel('a'))\n",
    "print(is_vowel('t'))"
   ]
  },
  {
   "cell_type": "markdown",
   "id": "3e7ef19b",
   "metadata": {},
   "source": [
    "3. Define a function named is_consonant. It should return True if the passed string is a consonant, False otherwise. Use your is_vowel function to accomplish this."
   ]
  },
  {
   "cell_type": "code",
   "execution_count": 124,
   "id": "8a8c9265",
   "metadata": {},
   "outputs": [
    {
     "name": "stdout",
     "output_type": "stream",
     "text": [
      "False\n",
      "True\n",
      "True\n"
     ]
    }
   ],
   "source": [
    "def is_constant(c):\n",
    "    return c not in is_vowel\n",
    "\n",
    "\n",
    "print(is_constant('a'))\n",
    "print(is_constant('t'))\n",
    "print(is_constant('v'))"
   ]
  },
  {
   "cell_type": "markdown",
   "id": "e4577a24",
   "metadata": {},
   "source": [
    "4. Define a function that accepts a string that is a word. The function should capitalize the first letter of the word if the word starts with a consonant."
   ]
  },
  {
   "cell_type": "code",
   "execution_count": 107,
   "id": "8f33b015",
   "metadata": {},
   "outputs": [
    {
     "name": "stdout",
     "output_type": "stream",
     "text": [
      "Test\n",
      "apple\n"
     ]
    }
   ],
   "source": [
    "is_vowel = 'aeiou'\n",
    "\n",
    "def my_word(x):\n",
    "    if x[0].lower() in is_vowel:\n",
    "    \n",
    "        print(x)\n",
    "    \n",
    "    else:   \n",
    "        \n",
    "        print(x.capitalize())\n",
    "    \n",
    "\n",
    "#should have if statement b/c has to start with constant\n",
    "\n",
    "my_word('test')\n",
    "my_word('apple')"
   ]
  },
  {
   "cell_type": "markdown",
   "id": "5eb1e079",
   "metadata": {},
   "source": [
    "5. Define a function named calculate_tip. It should accept a tip percentage (a number between 0 and 1) and the bill total, and return the amount to tip."
   ]
  },
  {
   "cell_type": "code",
   "execution_count": 179,
   "id": "96da137d",
   "metadata": {},
   "outputs": [],
   "source": [
    "def calculate_tip(bill_total, tip_percent):\n",
    "        bill_total = float(input('What is your bill total?: $'))\n",
    "        tip_percent = float(input('What percent do you want to tip?: '))\n",
    "\n",
    "\n",
    "        tip_amount = round(bill_total * (tip_percent/100), 2)\n",
    "\n",
    "        print(f'Your total tip is ${tip_amount}')\n",
    "    "
   ]
  },
  {
   "cell_type": "code",
   "execution_count": 182,
   "id": "d865a75c",
   "metadata": {},
   "outputs": [
    {
     "name": "stdout",
     "output_type": "stream",
     "text": [
      "What is your bill total?: $10\n",
      "What percent do you want to tip?: 7\n",
      "Your total tip is $0.7\n"
     ]
    }
   ],
   "source": [
    "calculate_tip(10,7)"
   ]
  },
  {
   "cell_type": "code",
   "execution_count": 201,
   "id": "14f0cf3b",
   "metadata": {},
   "outputs": [],
   "source": [
    "t = tip_percent\n",
    "\n",
    "t < 1 and t > 0\n",
    "\n",
    "def calculate_tip(b,t):\n",
    "    \n",
    "    tip = b * t\n",
    "    \n",
    "    print(tip)\n"
   ]
  },
  {
   "cell_type": "code",
   "execution_count": 202,
   "id": "d1c0214c",
   "metadata": {},
   "outputs": [
    {
     "name": "stdout",
     "output_type": "stream",
     "text": [
      "10\n"
     ]
    }
   ],
   "source": [
    "calculate_tip(10,1)"
   ]
  },
  {
   "cell_type": "markdown",
   "id": "77f3307e",
   "metadata": {},
   "source": [
    "6. Define a function named apply_discount. It should accept a original price, and a discount percentage, and return the price after the discount is applied."
   ]
  },
  {
   "cell_type": "code",
   "execution_count": 191,
   "id": "d5fe598a",
   "metadata": {},
   "outputs": [],
   "source": [
    "def apply_discount(op, discount):\n",
    "    \n",
    "    discount = discount / 100\n",
    "    \n",
    "    total = op - (op * discount)\n",
    "    \n",
    "    print(total)"
   ]
  },
  {
   "cell_type": "code",
   "execution_count": 192,
   "id": "b5c1c66f",
   "metadata": {},
   "outputs": [
    {
     "name": "stdout",
     "output_type": "stream",
     "text": [
      "7.5\n"
     ]
    }
   ],
   "source": [
    "apply_discount(10,25)"
   ]
  },
  {
   "cell_type": "markdown",
   "id": "84670987",
   "metadata": {},
   "source": [
    "7. Define a function named handle_commas. It should accept a string that is a number that contains commas in it as input, and return a number as output."
   ]
  },
  {
   "cell_type": "code",
   "execution_count": null,
   "id": "91757550",
   "metadata": {},
   "outputs": [],
   "source": []
  },
  {
   "cell_type": "markdown",
   "id": "1978b79a",
   "metadata": {},
   "source": [
    "8. Define a function named get_letter_grade. It should accept a number and return the letter grade associated with that number (A-F)."
   ]
  },
  {
   "cell_type": "code",
   "execution_count": null,
   "id": "a578ad8e",
   "metadata": {},
   "outputs": [],
   "source": []
  }
 ],
 "metadata": {
  "kernelspec": {
   "display_name": "Python 3 (ipykernel)",
   "language": "python",
   "name": "python3"
  },
  "language_info": {
   "codemirror_mode": {
    "name": "ipython",
    "version": 3
   },
   "file_extension": ".py",
   "mimetype": "text/x-python",
   "name": "python",
   "nbconvert_exporter": "python",
   "pygments_lexer": "ipython3",
   "version": "3.9.13"
  }
 },
 "nbformat": 4,
 "nbformat_minor": 5
}
