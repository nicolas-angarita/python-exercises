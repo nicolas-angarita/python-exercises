{
 "cells": [
  {
   "cell_type": "markdown",
   "id": "2fdf18fc",
   "metadata": {},
   "source": [
    "1. Conditional Basics\n",
    "\n",
    " a. prompt the user for a day of the week, print out whether the day is Monday or not\n",
    "\n",
    " b. prompt the user for a day of the week, print out whether the day is a weekday or a weekend\n",
    "\n",
    " c. create variables and make up values for\n",
    "\n",
    "   - the number of hours worked in one week\n",
    "   - the hourly rate\n",
    "   - how much the week's paycheck will be\n",
    "   - write the python code that calculates the weekly paycheck. You get paid time and a half if you work more than 40 hours\n",
    "\n"
   ]
  },
  {
   "cell_type": "code",
   "execution_count": 31,
   "id": "0fc1774d",
   "metadata": {},
   "outputs": [
    {
     "name": "stdout",
     "output_type": "stream",
     "text": [
      "Today is not Monday!\n"
     ]
    }
   ],
   "source": [
    "day_of_week = False\n",
    "            \n",
    "if day_of_week:\n",
    "    print('Today is Monday!')\n",
    "else:\n",
    "    print('Today is not Monday!')\n",
    "            \n"
   ]
  },
  {
   "cell_type": "code",
   "execution_count": 55,
   "id": "c1efe839",
   "metadata": {},
   "outputs": [
    {
     "name": "stdout",
     "output_type": "stream",
     "text": [
      "It's the weekend!\n"
     ]
    }
   ],
   "source": [
    "part_of_the_week= False\n",
    "\n",
    "if part_of_the_week:\n",
    "    print('No It\\'s still the weekday')\n",
    "else:\n",
    "    print('It\\'s the weekend!')\n"
   ]
  },
  {
   "cell_type": "code",
   "execution_count": 57,
   "id": "90767388",
   "metadata": {},
   "outputs": [
    {
     "name": "stdout",
     "output_type": "stream",
     "text": [
      "Total gross pay: 5500.0\n"
     ]
    }
   ],
   "source": [
    "def weeklypaid(hours_worked, wage):\n",
    "    if hours_worked > 40:\n",
    "        return 40 * wage + (hours_worked - 40) * wage * 1.5\n",
    "    else:\n",
    "        return hours_worked * wage\n",
    "\n",
    "hours_worked = 50\n",
    "wage = 100 \n",
    "pay = weeklyPaid(hours_worked, wage)\n",
    "    \n",
    "print(f'Total gross pay: {pay}')"
   ]
  },
  {
   "cell_type": "markdown",
   "id": "3fb8f931",
   "metadata": {},
   "source": [
    "2. Loop Basics\n",
    "\n",
    " a. While\n",
    "\n",
    " - Create an integer variable i with a value of 5.\n",
    " - Create a while loop that runs so long as i is less than or equal to 15\n",
    " - Each loop iteration, output the current value of i, then increment i by one."
   ]
  },
  {
   "cell_type": "code",
   "execution_count": 59,
   "id": "3662be03",
   "metadata": {},
   "outputs": [
    {
     "name": "stdout",
     "output_type": "stream",
     "text": [
      "5\n",
      "6\n",
      "7\n",
      "8\n",
      "9\n",
      "10\n",
      "11\n",
      "12\n",
      "13\n",
      "14\n",
      "15\n"
     ]
    }
   ],
   "source": [
    "i = 5\n",
    "\n",
    "while i <= 15:\n",
    "    print(i)\n",
    "    i += 1"
   ]
  },
  {
   "cell_type": "code",
   "execution_count": 45,
   "id": "2f3e6365",
   "metadata": {},
   "outputs": [
    {
     "name": "stdout",
     "output_type": "stream",
     "text": [
      "Number of hours worked in one week 32\n"
     ]
    }
   ],
   "source": [
    "num_hrs_per_wk = input('Number of hours worked in one week ')\n"
   ]
  },
  {
   "cell_type": "markdown",
   "id": "05867f76",
   "metadata": {},
   "source": [
    " - Create a while loop that will count by 2's starting with 0 and ending at 100. Follow each number with a new line.\n",
    " - Alter your loop to count backwards by 5's from 100 to -10.\n",
    " - Create a while loop that starts at 2, and displays the number squared on each line while the number is less than 1,000,000. Output should equal:\n",
    " 2\n",
    " 4\n",
    " 16\n",
    " 256\n",
    " 65536\n",
    "\n",
    " "
   ]
  },
  {
   "cell_type": "code",
   "execution_count": 82,
   "id": "283f4037",
   "metadata": {},
   "outputs": [
    {
     "name": "stdout",
     "output_type": "stream",
     "text": [
      "0\n",
      "-3\n",
      "-6\n",
      "-9\n"
     ]
    }
   ],
   "source": [
    "i = 0\n",
    "\n",
    "while i < 100 and i >-10:\n",
    "    print (i)\n",
    "    i += 2\n",
    "    i -= 5\n",
    "\n",
    "\n",
    "\n",
    "\n",
    "\n",
    "\n",
    "\n",
    "\n",
    "\n",
    "    \n",
    "    "
   ]
  },
  {
   "cell_type": "code",
   "execution_count": 80,
   "id": "1cdc15c5",
   "metadata": {},
   "outputs": [
    {
     "name": "stdout",
     "output_type": "stream",
     "text": [
      "2\n",
      "4\n",
      "16\n",
      "256\n",
      "65536\n"
     ]
    }
   ],
   "source": [
    "i = 2\n",
    "\n",
    "while i < 1_000_000:\n",
    "    print (i)\n",
    "    i **= 2\n",
    "        "
   ]
  },
  {
   "cell_type": "markdown",
   "id": "587f1e38",
   "metadata": {},
   "source": [
    " - Write a loop that uses print to create the output shown below.\n",
    "100\n",
    "95\n",
    "90\n",
    "85\n",
    "80\n",
    "75\n",
    "70\n",
    "65\n",
    "60\n",
    "55\n",
    "50\n",
    "45\n",
    "40\n",
    "35\n",
    "30\n",
    "25\n",
    "20\n",
    "15\n",
    "10\n",
    "5\n"
   ]
  },
  {
   "cell_type": "code",
   "execution_count": 84,
   "id": "ef010927",
   "metadata": {},
   "outputs": [
    {
     "name": "stdout",
     "output_type": "stream",
     "text": [
      "100\n",
      "95\n",
      "90\n",
      "85\n",
      "80\n",
      "75\n",
      "70\n",
      "65\n",
      "60\n",
      "55\n",
      "50\n",
      "45\n",
      "40\n",
      "35\n",
      "30\n",
      "25\n",
      "20\n",
      "15\n",
      "10\n",
      "5\n"
     ]
    }
   ],
   "source": [
    "i = 100\n",
    "\n",
    "while i >= 5 and i <= 100:\n",
    "    print(i)\n",
    "    i -= 5"
   ]
  },
  {
   "cell_type": "code",
   "execution_count": null,
   "id": "07af4676",
   "metadata": {},
   "outputs": [],
   "source": []
  }
 ],
 "metadata": {
  "kernelspec": {
   "display_name": "Python 3 (ipykernel)",
   "language": "python",
   "name": "python3"
  },
  "language_info": {
   "codemirror_mode": {
    "name": "ipython",
    "version": 3
   },
   "file_extension": ".py",
   "mimetype": "text/x-python",
   "name": "python",
   "nbconvert_exporter": "python",
   "pygments_lexer": "ipython3",
   "version": "3.9.13"
  }
 },
 "nbformat": 4,
 "nbformat_minor": 5
}
