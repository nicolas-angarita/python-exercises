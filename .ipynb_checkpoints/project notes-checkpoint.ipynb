{
 "cells": [
  {
   "cell_type": "markdown",
   "id": "3c102659",
   "metadata": {},
   "source": [
    "Create an option to account for a lack of bills or coins\n",
    "How will the program handle an instance where quarters are not available?"
   ]
  },
  {
   "cell_type": "code",
   "execution_count": null,
   "id": "0cd9b325",
   "metadata": {},
   "outputs": [],
   "source": []
  },
  {
   "cell_type": "code",
   "execution_count": 6,
   "id": "ab1ddf90",
   "metadata": {},
   "outputs": [
    {
     "name": "stdout",
     "output_type": "stream",
     "text": [
      "2\n"
     ]
    }
   ],
   "source": [
    "quarters = 5\n",
    "nickels = 2\n",
    "\n",
    "if quarters < 0 and quarters > 2:\n",
    "    \n",
    "    print (quarters)\n",
    "    \n",
    "else: \n",
    "    \n",
    "    print (nickels)\n",
    "\n",
    "    \n",
    "    "
   ]
  },
  {
   "cell_type": "code",
   "execution_count": 25,
   "id": "15722605",
   "metadata": {},
   "outputs": [],
   "source": [
    "def countCurrency(amount):   \n",
    "    notes = [100, 50, 20, 10, 5, 1]\n",
    "    coins = [.25, .10, .5, .1, .01]\n",
    "    notesCount = {}\n",
    "    coinsCount = {}\n",
    "    \n",
    "    for note in notes:\n",
    "        if amount >= note:\n",
    "            notesCount[note] = amount//note\n",
    "            amount = amount % note\n",
    "             \n",
    "    for coin in coins:\n",
    "        if amount >= coin:\n",
    "            coinsCount[coin] = amount//coin\n",
    "            amount = amount % coin            \n",
    "                \n",
    "    print (\"Currency Count -->\")\n",
    "    for key, value in notesCount.items():\n",
    "        print(f\"{key} : {value}\")\n",
    " \n",
    "    print (\"Coin Count -->\")\n",
    "    for k, v in coinsCount.items():\n",
    "        print(f\"{k} : {v}\")"
   ]
  },
  {
   "cell_type": "code",
   "execution_count": 26,
   "id": "ebe53321",
   "metadata": {},
   "outputs": [
    {
     "name": "stdout",
     "output_type": "stream",
     "text": [
      "Currency Count -->\n",
      "20 : 1.0\n",
      "5 : 1.0\n",
      "Coin Count -->\n",
      "0.25 : 2.0\n",
      "0.1 : 2.0\n",
      "0.01 : 3.0\n"
     ]
    }
   ],
   "source": [
    "amount = 25.73\n",
    "countCurrency(amount)"
   ]
  },
  {
   "cell_type": "code",
   "execution_count": 30,
   "id": "5100c5f8",
   "metadata": {},
   "outputs": [
    {
     "name": "stdout",
     "output_type": "stream",
     "text": [
      "What is your total? 10\n",
      "When prompted, enter the number of bills/coins you are using to pay: \n"
     ]
    },
    {
     "ename": "KeyboardInterrupt",
     "evalue": "Interrupted by user",
     "output_type": "error",
     "traceback": [
      "\u001b[0;31m---------------------------------------------------------------------------\u001b[0m",
      "\u001b[0;31mKeyboardInterrupt\u001b[0m                         Traceback (most recent call last)",
      "Input \u001b[0;32mIn [30]\u001b[0m, in \u001b[0;36m<cell line: 5>\u001b[0;34m()\u001b[0m\n\u001b[1;32m      3\u001b[0m \u001b[38;5;28mprint\u001b[39m(\u001b[38;5;124m'\u001b[39m\u001b[38;5;124mWhen prompted, enter the number of bills/coins you are using to pay: \u001b[39m\u001b[38;5;124m'\u001b[39m)\n\u001b[1;32m      4\u001b[0m \u001b[38;5;66;03m#bills\u001b[39;00m\n\u001b[0;32m----> 5\u001b[0m num_100 \u001b[38;5;241m=\u001b[39m \u001b[38;5;28mint\u001b[39m(\u001b[38;5;28;43minput\u001b[39;49m\u001b[43m(\u001b[49m\u001b[38;5;124;43m\"\u001b[39;49m\u001b[38;5;124;43mHow many $100 bills? \u001b[39;49m\u001b[38;5;124;43m\"\u001b[39;49m\u001b[43m)\u001b[49m)\n\u001b[1;32m      6\u001b[0m num_50 \u001b[38;5;241m=\u001b[39m \u001b[38;5;28mint\u001b[39m(\u001b[38;5;28minput\u001b[39m(\u001b[38;5;124m\"\u001b[39m\u001b[38;5;124mHow many $50 bills? \u001b[39m\u001b[38;5;124m\"\u001b[39m))\n\u001b[1;32m      7\u001b[0m num_20 \u001b[38;5;241m=\u001b[39m \u001b[38;5;28mint\u001b[39m(\u001b[38;5;28minput\u001b[39m(\u001b[38;5;124m\"\u001b[39m\u001b[38;5;124mHow many $20 bills? \u001b[39m\u001b[38;5;124m\"\u001b[39m))\n",
      "File \u001b[0;32m/opt/homebrew/anaconda3/lib/python3.9/site-packages/ipykernel/kernelbase.py:1177\u001b[0m, in \u001b[0;36mKernel.raw_input\u001b[0;34m(self, prompt)\u001b[0m\n\u001b[1;32m   1173\u001b[0m \u001b[38;5;28;01mif\u001b[39;00m \u001b[38;5;129;01mnot\u001b[39;00m \u001b[38;5;28mself\u001b[39m\u001b[38;5;241m.\u001b[39m_allow_stdin:\n\u001b[1;32m   1174\u001b[0m     \u001b[38;5;28;01mraise\u001b[39;00m StdinNotImplementedError(\n\u001b[1;32m   1175\u001b[0m         \u001b[38;5;124m\"\u001b[39m\u001b[38;5;124mraw_input was called, but this frontend does not support input requests.\u001b[39m\u001b[38;5;124m\"\u001b[39m\n\u001b[1;32m   1176\u001b[0m     )\n\u001b[0;32m-> 1177\u001b[0m \u001b[38;5;28;01mreturn\u001b[39;00m \u001b[38;5;28;43mself\u001b[39;49m\u001b[38;5;241;43m.\u001b[39;49m\u001b[43m_input_request\u001b[49m\u001b[43m(\u001b[49m\n\u001b[1;32m   1178\u001b[0m \u001b[43m    \u001b[49m\u001b[38;5;28;43mstr\u001b[39;49m\u001b[43m(\u001b[49m\u001b[43mprompt\u001b[49m\u001b[43m)\u001b[49m\u001b[43m,\u001b[49m\n\u001b[1;32m   1179\u001b[0m \u001b[43m    \u001b[49m\u001b[38;5;28;43mself\u001b[39;49m\u001b[38;5;241;43m.\u001b[39;49m\u001b[43m_parent_ident\u001b[49m\u001b[43m[\u001b[49m\u001b[38;5;124;43m\"\u001b[39;49m\u001b[38;5;124;43mshell\u001b[39;49m\u001b[38;5;124;43m\"\u001b[39;49m\u001b[43m]\u001b[49m\u001b[43m,\u001b[49m\n\u001b[1;32m   1180\u001b[0m \u001b[43m    \u001b[49m\u001b[38;5;28;43mself\u001b[39;49m\u001b[38;5;241;43m.\u001b[39;49m\u001b[43mget_parent\u001b[49m\u001b[43m(\u001b[49m\u001b[38;5;124;43m\"\u001b[39;49m\u001b[38;5;124;43mshell\u001b[39;49m\u001b[38;5;124;43m\"\u001b[39;49m\u001b[43m)\u001b[49m\u001b[43m,\u001b[49m\n\u001b[1;32m   1181\u001b[0m \u001b[43m    \u001b[49m\u001b[43mpassword\u001b[49m\u001b[38;5;241;43m=\u001b[39;49m\u001b[38;5;28;43;01mFalse\u001b[39;49;00m\u001b[43m,\u001b[49m\n\u001b[1;32m   1182\u001b[0m \u001b[43m\u001b[49m\u001b[43m)\u001b[49m\n",
      "File \u001b[0;32m/opt/homebrew/anaconda3/lib/python3.9/site-packages/ipykernel/kernelbase.py:1219\u001b[0m, in \u001b[0;36mKernel._input_request\u001b[0;34m(self, prompt, ident, parent, password)\u001b[0m\n\u001b[1;32m   1216\u001b[0m             \u001b[38;5;28;01mbreak\u001b[39;00m\n\u001b[1;32m   1217\u001b[0m \u001b[38;5;28;01mexcept\u001b[39;00m \u001b[38;5;167;01mKeyboardInterrupt\u001b[39;00m:\n\u001b[1;32m   1218\u001b[0m     \u001b[38;5;66;03m# re-raise KeyboardInterrupt, to truncate traceback\u001b[39;00m\n\u001b[0;32m-> 1219\u001b[0m     \u001b[38;5;28;01mraise\u001b[39;00m \u001b[38;5;167;01mKeyboardInterrupt\u001b[39;00m(\u001b[38;5;124m\"\u001b[39m\u001b[38;5;124mInterrupted by user\u001b[39m\u001b[38;5;124m\"\u001b[39m) \u001b[38;5;28;01mfrom\u001b[39;00m \u001b[38;5;28mNone\u001b[39m\n\u001b[1;32m   1220\u001b[0m \u001b[38;5;28;01mexcept\u001b[39;00m \u001b[38;5;167;01mException\u001b[39;00m:\n\u001b[1;32m   1221\u001b[0m     \u001b[38;5;28mself\u001b[39m\u001b[38;5;241m.\u001b[39mlog\u001b[38;5;241m.\u001b[39mwarning(\u001b[38;5;124m\"\u001b[39m\u001b[38;5;124mInvalid Message:\u001b[39m\u001b[38;5;124m\"\u001b[39m, exc_info\u001b[38;5;241m=\u001b[39m\u001b[38;5;28;01mTrue\u001b[39;00m)\n",
      "\u001b[0;31mKeyboardInterrupt\u001b[0m: Interrupted by user"
     ]
    }
   ],
   "source": [
    "# user input price and the money supplied\n",
    "price = input(\"What is your total? \")\n",
    "print('When prompted, enter the number of bills/coins you are using to pay: ')\n",
    "#bills\n",
    "num_100 = int(input(\"How many $100 bills? \"))\n",
    "num_50 = int(input(\"How many $50 bills? \"))\n",
    "num_20 = int(input(\"How many $20 bills? \"))\n",
    "num_10 = int(input(\"How many $10 bills? \"))\n",
    "num_5 = int(input(\"How many $5 bills? \"))\n",
    "num_1 = int(input(\"How many $1 bills? \"))\n",
    "#coins\n",
    "# maybe ask user if they are using coins before asking the rest of the questions\n",
    "num_quarters = int(input(\"How many quarters? \"))\n",
    "num_dimes = int(input(\"How many dimes? \"))\n",
    "num_nickles = int(input(\"How many nickles \"))\n",
    "num_pennies  = int(input(\"How many pennies? \"))\n",
    "white_check_mark\n",
    "+1\n",
    "raised_hands\n",
    "\n",
    "\n",
    "\n",
    "\n",
    "\n",
    "\n",
    "bills = [num_100, num_50, num_20, num_10, num_5, num_1]\n",
    "coins = [num_quarters, num_dimes, num_nickles, num_pennies]"
   ]
  },
  {
   "cell_type": "code",
   "execution_count": null,
   "id": "2ca76894",
   "metadata": {},
   "outputs": [],
   "source": [
    "coins {quarter}"
   ]
  },
  {
   "cell_type": "code",
   "execution_count": 39,
   "id": "4b67abdb",
   "metadata": {},
   "outputs": [
    {
     "ename": "SyntaxError",
     "evalue": "invalid syntax (1308861454.py, line 8)",
     "output_type": "error",
     "traceback": [
      "\u001b[0;36m  Input \u001b[0;32mIn [39]\u001b[0;36m\u001b[0m\n\u001b[0;31m    while q >= 0:\u001b[0m\n\u001b[0m    ^\u001b[0m\n\u001b[0;31mSyntaxError\u001b[0m\u001b[0;31m:\u001b[0m invalid syntax\n"
     ]
    }
   ],
   "source": [
    "q = 5\n",
    "d = 4\n",
    "n = 6\n",
    "p = 7\n",
    "\n",
    "\n",
    "\n",
    "while q >= 0:\n",
    "\n",
    "\n",
    "    print(q)\n",
    "    \n",
    "    \n",
    "    q -= 1\n",
    "\n",
    "\n",
    "    "
   ]
  },
  {
   "cell_type": "code",
   "execution_count": null,
   "id": "82e753e7",
   "metadata": {},
   "outputs": [],
   "source": []
  }
 ],
 "metadata": {
  "kernelspec": {
   "display_name": "Python 3 (ipykernel)",
   "language": "python",
   "name": "python3"
  },
  "language_info": {
   "codemirror_mode": {
    "name": "ipython",
    "version": 3
   },
   "file_extension": ".py",
   "mimetype": "text/x-python",
   "name": "python",
   "nbconvert_exporter": "python",
   "pygments_lexer": "ipython3",
   "version": "3.9.13"
  }
 },
 "nbformat": 4,
 "nbformat_minor": 5
}
