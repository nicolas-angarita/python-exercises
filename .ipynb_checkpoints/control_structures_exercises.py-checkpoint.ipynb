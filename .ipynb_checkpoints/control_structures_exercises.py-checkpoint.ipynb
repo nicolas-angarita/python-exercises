{
 "cells": [
  {
   "cell_type": "markdown",
   "id": "2fdf18fc",
   "metadata": {},
   "source": [
    "1. Conditional Basics\n",
    "\n",
    " a. prompt the user for a day of the week, print out whether the day is Monday or not\n",
    "\n",
    " b. prompt the user for a day of the week, print out whether the day is a weekday or a weekend\n",
    "\n",
    " c. create variables and make up values for\n",
    "\n",
    "   - the number of hours worked in one week\n",
    "   - the hourly rate\n",
    "   - how much the week's paycheck will be\n",
    "   - write the python code that calculates the weekly paycheck. You get paid time and a half if you work more than 40 hours\n",
    "\n"
   ]
  },
  {
   "cell_type": "code",
   "execution_count": 178,
   "id": "0fc1774d",
   "metadata": {},
   "outputs": [
    {
     "name": "stdout",
     "output_type": "stream",
     "text": [
      "Enter the day of the week: Tuesday\n",
      "We are far from Monday!\n"
     ]
    }
   ],
   "source": [
    "day_of_week = input('Enter the day of the week: ')\n",
    "list_1 = ['Sunday', 'Saturday', 'Tuesday', 'Wednesday', 'Thursday', 'Friday']\n",
    "\n",
    "\n",
    "if day_of_week in list_1:\n",
    "    print('We are far from Monday!')\n",
    "else:\n",
    "    print('Today is Monday, really!')\n"
   ]
  },
  {
   "cell_type": "code",
   "execution_count": 196,
   "id": "c1efe839",
   "metadata": {},
   "outputs": [
    {
     "name": "stdout",
     "output_type": "stream",
     "text": [
      "Enter the day of the week: Monday\n",
      "No It's still the weekday\n"
     ]
    }
   ],
   "source": [
    "part_of_the_week= input('Enter the day of the week: ')\n",
    "list_2 = ['Saturday', 'Sunday']\n",
    "\n",
    "if part_of_the_week in list_2:\n",
    "    print('It\\'s the weekend!') \n",
    "else:\n",
    "    print('No It\\'s still the weekday')\n"
   ]
  },
  {
   "cell_type": "code",
   "execution_count": 195,
   "id": "90767388",
   "metadata": {},
   "outputs": [
    {
     "name": "stdout",
     "output_type": "stream",
     "text": [
      "Total gross pay: 10000.0\n"
     ]
    }
   ],
   "source": [
    "hours_worked = 80\n",
    "wage = 100 \n",
    "pay = weeklypaid(hours_worked, wage)\n",
    "\n",
    "\n",
    "def weeklypaid(hours_worked, wage):\n",
    "    if hours_worked > 40:\n",
    "        return 40 * wage + (hours_worked - 40) * wage * 1.5\n",
    "    else:\n",
    "        return hours_worked * wage\n",
    "\n",
    "\n",
    "print(f'Total gross pay: {pay}')"
   ]
  },
  {
   "cell_type": "markdown",
   "id": "3fb8f931",
   "metadata": {},
   "source": [
    "2. Loop Basics\n",
    "\n",
    " a. While\n",
    "\n",
    " - Create an integer variable i with a value of 5.\n",
    " - Create a while loop that runs so long as i is less than or equal to 15\n",
    " - Each loop iteration, output the current value of i, then increment i by one."
   ]
  },
  {
   "cell_type": "code",
   "execution_count": 59,
   "id": "3662be03",
   "metadata": {},
   "outputs": [
    {
     "name": "stdout",
     "output_type": "stream",
     "text": [
      "5\n",
      "6\n",
      "7\n",
      "8\n",
      "9\n",
      "10\n",
      "11\n",
      "12\n",
      "13\n",
      "14\n",
      "15\n"
     ]
    }
   ],
   "source": [
    "i = 5\n",
    "\n",
    "while i <= 15:\n",
    "    \n",
    "    print(i)\n",
    "    \n",
    "    i += 1"
   ]
  },
  {
   "cell_type": "markdown",
   "id": "05867f76",
   "metadata": {},
   "source": [
    " - Create a while loop that will count by 2's starting with 0 and ending at 100. Follow each number with a new line.\n",
    " - Alter your loop to count backwards by 5's from 100 to -10.\n",
    " - Create a while loop that starts at 2, and displays the number squared on each line while the number is less than 1,000,000. Output should equal:\n",
    " 2\n",
    " 4\n",
    " 16\n",
    " 256\n",
    " 65536\n",
    "\n",
    " "
   ]
  },
  {
   "cell_type": "code",
   "execution_count": 197,
   "id": "283f4037",
   "metadata": {},
   "outputs": [
    {
     "name": "stdout",
     "output_type": "stream",
     "text": [
      "0\n",
      "2\n",
      "4\n",
      "6\n",
      "8\n",
      "10\n",
      "12\n",
      "14\n",
      "16\n",
      "18\n",
      "20\n",
      "22\n",
      "24\n",
      "26\n",
      "28\n",
      "30\n",
      "32\n",
      "34\n",
      "36\n",
      "38\n",
      "40\n",
      "42\n",
      "44\n",
      "46\n",
      "48\n",
      "50\n",
      "52\n",
      "54\n",
      "56\n",
      "58\n",
      "60\n",
      "62\n",
      "64\n",
      "66\n",
      "68\n",
      "70\n",
      "72\n",
      "74\n",
      "76\n",
      "78\n",
      "80\n",
      "82\n",
      "84\n",
      "86\n",
      "88\n",
      "90\n",
      "92\n",
      "94\n",
      "96\n",
      "98\n",
      "100\n"
     ]
    }
   ],
   "source": [
    "i = 0\n",
    "\n",
    "while i <= 100:\n",
    "    print (i)\n",
    "    i += 2\n",
    "    \n",
    "    "
   ]
  },
  {
   "cell_type": "code",
   "execution_count": 198,
   "id": "89c183c6",
   "metadata": {},
   "outputs": [
    {
     "name": "stdout",
     "output_type": "stream",
     "text": [
      "100\n",
      "95\n",
      "90\n",
      "85\n",
      "80\n",
      "75\n",
      "70\n",
      "65\n",
      "60\n",
      "55\n",
      "50\n",
      "45\n",
      "40\n",
      "35\n",
      "30\n",
      "25\n",
      "20\n",
      "15\n",
      "10\n",
      "5\n",
      "0\n",
      "-5\n",
      "-10\n"
     ]
    }
   ],
   "source": [
    "i = 100\n",
    "\n",
    "while i >= -10:\n",
    "    print(i)\n",
    "    i -= 5"
   ]
  },
  {
   "cell_type": "code",
   "execution_count": 80,
   "id": "1cdc15c5",
   "metadata": {},
   "outputs": [
    {
     "name": "stdout",
     "output_type": "stream",
     "text": [
      "2\n",
      "4\n",
      "16\n",
      "256\n",
      "65536\n"
     ]
    }
   ],
   "source": [
    "i = 2\n",
    "\n",
    "while i < 1_000_000:\n",
    "    print (i)\n",
    "    i **= 2\n",
    "        "
   ]
  },
  {
   "cell_type": "markdown",
   "id": "587f1e38",
   "metadata": {},
   "source": [
    " - Write a loop that uses print to create the output shown below.\n",
    "100\n",
    "95\n",
    "90\n",
    "85\n",
    "80\n",
    "75\n",
    "70\n",
    "65\n",
    "60\n",
    "55\n",
    "50\n",
    "45\n",
    "40\n",
    "35\n",
    "30\n",
    "25\n",
    "20\n",
    "15\n",
    "10\n",
    "5\n"
   ]
  },
  {
   "cell_type": "code",
   "execution_count": 200,
   "id": "ef010927",
   "metadata": {},
   "outputs": [
    {
     "name": "stdout",
     "output_type": "stream",
     "text": [
      "100\n",
      "95\n",
      "90\n",
      "85\n",
      "80\n",
      "75\n",
      "70\n",
      "65\n",
      "60\n",
      "55\n",
      "50\n",
      "45\n",
      "40\n",
      "35\n",
      "30\n",
      "25\n",
      "20\n",
      "15\n",
      "10\n",
      "5\n"
     ]
    }
   ],
   "source": [
    "i = 100\n",
    "\n",
    "while i > 0:\n",
    "    print(i)\n",
    "    i -= 5"
   ]
  },
  {
   "cell_type": "markdown",
   "id": "d7d38cd0",
   "metadata": {},
   "source": [
    "b. For Loops\n",
    "\n",
    " i. Write some code that prompts the user for a number, then shows a multiplication table up through 10 for that number.\n",
    "\n",
    " ii. For example, if the user enters 7, your program should output:\n",
    "\n",
    "\n"
   ]
  },
  {
   "cell_type": "code",
   "execution_count": 204,
   "id": "d1a389ee",
   "metadata": {},
   "outputs": [
    {
     "name": "stdout",
     "output_type": "stream",
     "text": [
      "Input your number 7\n",
      "7 x 1 = 7\n",
      "7 x 2 = 14\n",
      "7 x 3 = 21\n",
      "7 x 4 = 28\n",
      "7 x 5 = 35\n",
      "7 x 6 = 42\n",
      "7 x 7 = 49\n",
      "7 x 8 = 56\n",
      "7 x 9 = 63\n",
      "7 x 10 = 70\n"
     ]
    }
   ],
   "source": [
    "ur_number = int(input('Input your number '))\n",
    "\n",
    "for n in range(1,11):\n",
    "    print(f'{ur_number} x {n} = {ur_number * n}')\n"
   ]
  },
  {
   "cell_type": "code",
   "execution_count": 205,
   "id": "b5272669",
   "metadata": {},
   "outputs": [
    {
     "name": "stdout",
     "output_type": "stream",
     "text": [
      "1\n",
      "22\n",
      "333\n",
      "4444\n",
      "55555\n",
      "666666\n",
      "7777777\n",
      "88888888\n",
      "999999999\n"
     ]
    }
   ],
   "source": [
    "for i in range(1,10):\n",
    "    print(str(i) * i)"
   ]
  },
  {
   "cell_type": "markdown",
   "id": "85ecfa40",
   "metadata": {},
   "source": [
    "c. break and continue\n",
    "\n",
    "  i. Write a program that prompts the user for a positive integer. Next write a loop that prints out the numbers from the number the user entered down to 1.\n",
    "\n",
    "  ii. The input function can be used to prompt for input and use that input in your python code. Prompt the user to enter a positive number and write a loop that counts from 0 to that number. (Hints: first make sure that the value the user entered is a valid number, also note that the input function returns a string, so you'll need to convert this to a numeric type.)\n",
    "\n",
    "  iii. Prompt the user for an odd number between 1 and 50. Use a loop and a break statement to continue prompting the user if they enter invalid input. (Hint: use the isdigit method on strings to determine this). Use a loop and the continue statement to output all the odd numbers between 1 and 50, except for the number the user entered.\n",
    "\n"
   ]
  },
  {
   "cell_type": "code",
   "execution_count": 208,
   "id": "55f45d61",
   "metadata": {},
   "outputs": [
    {
     "name": "stdout",
     "output_type": "stream",
     "text": [
      "Insert your number 10\n",
      "10\n",
      "9\n",
      "8\n",
      "7\n",
      "6\n",
      "5\n",
      "4\n",
      "3\n",
      "2\n",
      "1\n"
     ]
    }
   ],
   "source": [
    "n = int(input('Insert your number '))\n",
    "\n",
    "while n > 0:\n",
    "    print(n)\n",
    "    n -= 1\n",
    "    "
   ]
  },
  {
   "cell_type": "code",
   "execution_count": 209,
   "id": "f35ddf48",
   "metadata": {},
   "outputs": [
    {
     "name": "stdout",
     "output_type": "stream",
     "text": [
      "Insert a number 7\n",
      "7\n",
      "6\n",
      "5\n",
      "4\n",
      "3\n",
      "2\n",
      "1\n",
      "0\n"
     ]
    }
   ],
   "source": [
    "num = int(input('Insert a number '))\n",
    "\n",
    "counter = 0\n",
    "while counter <= num:\n",
    "    print(num)\n",
    "    num -= 1"
   ]
  },
  {
   "cell_type": "code",
   "execution_count": 223,
   "id": "2859af0e",
   "metadata": {},
   "outputs": [
    {
     "name": "stdout",
     "output_type": "stream",
     "text": [
      "Insert a number 7\n",
      "1\n",
      "3\n",
      "5\n",
      "7 is good\n",
      "9\n",
      "11\n",
      "13\n",
      "15\n",
      "17\n",
      "19\n",
      "21\n",
      "23\n",
      "25\n",
      "27\n",
      "29\n",
      "31\n",
      "33\n",
      "35\n",
      "37\n",
      "39\n",
      "41\n",
      "43\n",
      "45\n",
      "47\n",
      "49\n"
     ]
    }
   ],
   "source": [
    "while True:\n",
    "    \n",
    "    num = input('Insert a number ')\n",
    "    \n",
    "    if num.isdigit() and int(num) % 2 == 1:\n",
    "        \n",
    "        break\n",
    "    else:\n",
    "        \n",
    "        print('Invalid try again')\n",
    "        \n",
    "counter = 1\n",
    "\n",
    "while counter < 50:\n",
    "    \n",
    "    if counter == int(num):\n",
    "        print(f'{num} is good')\n",
    "        counter += 2\n",
    "        \n",
    "        continue\n",
    "        \n",
    "    else:\n",
    "        \n",
    "        print(counter)\n",
    "        \n",
    "        counter += 2\n",
    "    "
   ]
  },
  {
   "cell_type": "markdown",
   "id": "c6af57c8",
   "metadata": {},
   "source": [
    "3. Fizzbuzz\n",
    "\n",
    "   One of the most common interview questions for entry-level programmers is the FizzBuzz test. Developed by Imran Ghory, the test is designed to test basic looping and conditional logic skills.\n",
    "\n",
    "   - Write a program that prints the numbers from 1 to 100.\n",
    "   - For multiples of three print \"Fizz\" instead of the number\n",
    "   - For the multiples of five print \"Buzz\".\n",
    "   - For numbers which are multiples of both three and five print \"FizzBuzz\"."
   ]
  },
  {
   "cell_type": "code",
   "execution_count": 38,
   "id": "cf74b97a",
   "metadata": {},
   "outputs": [
    {
     "name": "stdout",
     "output_type": "stream",
     "text": [
      "1\n",
      "2\n",
      "3\n",
      "4\n",
      "5\n",
      "6\n",
      "7\n",
      "8\n",
      "9\n",
      "10\n",
      "11\n",
      "12\n",
      "13\n",
      "14\n",
      "15\n",
      "16\n",
      "17\n",
      "18\n",
      "19\n",
      "20\n",
      "21\n",
      "22\n",
      "23\n",
      "24\n",
      "25\n",
      "26\n",
      "27\n",
      "28\n",
      "29\n",
      "30\n",
      "31\n",
      "32\n",
      "33\n",
      "34\n",
      "35\n",
      "36\n",
      "37\n",
      "38\n",
      "39\n",
      "40\n",
      "41\n",
      "42\n",
      "43\n",
      "44\n",
      "45\n",
      "46\n",
      "47\n",
      "48\n",
      "49\n",
      "50\n",
      "51\n",
      "52\n",
      "53\n",
      "54\n",
      "55\n",
      "56\n",
      "57\n",
      "58\n",
      "59\n",
      "60\n",
      "61\n",
      "62\n",
      "63\n",
      "64\n",
      "65\n",
      "66\n",
      "67\n",
      "68\n",
      "69\n",
      "70\n",
      "71\n",
      "72\n",
      "73\n",
      "74\n",
      "75\n",
      "76\n",
      "77\n",
      "78\n",
      "79\n",
      "80\n",
      "81\n",
      "82\n",
      "83\n",
      "84\n",
      "85\n",
      "86\n",
      "87\n",
      "88\n",
      "89\n",
      "90\n",
      "91\n",
      "92\n",
      "93\n",
      "94\n",
      "95\n",
      "96\n",
      "97\n",
      "98\n",
      "99\n",
      "100\n"
     ]
    }
   ],
   "source": [
    "for n in range(1,101):\n",
    "    print(n)"
   ]
  },
  {
   "cell_type": "code",
   "execution_count": 225,
   "id": "0a3c9811",
   "metadata": {},
   "outputs": [
    {
     "name": "stdout",
     "output_type": "stream",
     "text": [
      "1\n",
      "2\n",
      "Fizz\n",
      "4\n",
      "Buzz\n",
      "Fizz\n",
      "7\n",
      "8\n",
      "Fizz\n",
      "Buzz\n",
      "11\n",
      "Fizz\n",
      "13\n",
      "14\n",
      "FizzBuzz\n",
      "16\n",
      "17\n",
      "Fizz\n",
      "19\n",
      "Buzz\n",
      "Fizz\n",
      "22\n",
      "23\n",
      "Fizz\n",
      "Buzz\n",
      "26\n",
      "Fizz\n",
      "28\n",
      "29\n",
      "FizzBuzz\n",
      "31\n",
      "32\n",
      "Fizz\n",
      "34\n",
      "Buzz\n",
      "Fizz\n",
      "37\n",
      "38\n",
      "Fizz\n",
      "Buzz\n",
      "41\n",
      "Fizz\n",
      "43\n",
      "44\n",
      "FizzBuzz\n",
      "46\n",
      "47\n",
      "Fizz\n",
      "49\n",
      "Buzz\n",
      "Fizz\n",
      "52\n",
      "53\n",
      "Fizz\n",
      "Buzz\n",
      "56\n",
      "Fizz\n",
      "58\n",
      "59\n",
      "FizzBuzz\n",
      "61\n",
      "62\n",
      "Fizz\n",
      "64\n",
      "Buzz\n",
      "Fizz\n",
      "67\n",
      "68\n",
      "Fizz\n",
      "Buzz\n",
      "71\n",
      "Fizz\n",
      "73\n",
      "74\n",
      "FizzBuzz\n",
      "76\n",
      "77\n",
      "Fizz\n",
      "79\n",
      "Buzz\n",
      "Fizz\n",
      "82\n",
      "83\n",
      "Fizz\n",
      "Buzz\n",
      "86\n",
      "Fizz\n",
      "88\n",
      "89\n",
      "FizzBuzz\n",
      "91\n",
      "92\n",
      "Fizz\n",
      "94\n",
      "Buzz\n",
      "Fizz\n",
      "97\n",
      "98\n",
      "Fizz\n",
      "Buzz\n"
     ]
    }
   ],
   "source": [
    "for n in range(1, 101):\n",
    "    f_b = ''\n",
    "    if n % 3 == 0:\n",
    "        f_b += 'Fizz'\n",
    "    if n % 5 == 0:\n",
    "        f_b += 'Buzz'\n",
    "    if not f_b:\n",
    "        f_b = n\n",
    "    print(f_b)"
   ]
  },
  {
   "cell_type": "markdown",
   "id": "e689c9cd",
   "metadata": {},
   "source": [
    "4. Display a table of powers.\n",
    "\n",
    "  - Prompt the user to enter an integer.\n",
    "  - Display a table of squares and cubes from 1 to the value entered.\n",
    "  - Ask if the user wants to continue.\n",
    "  - Assume that the user will enter valid data.\n",
    "  - Only continue if the user agrees to.\n"
   ]
  },
  {
   "cell_type": "code",
   "execution_count": 227,
   "id": "ffa1438b",
   "metadata": {},
   "outputs": [
    {
     "name": "stdout",
     "output_type": "stream",
     "text": [
      "Your Number 5\n",
      "number | squared | cubed\n",
      "--- | ------ | ----\n",
      "1  | 1 |  1\n",
      "2  | 4 |  8\n",
      "3  | 9 |  27\n",
      "4  | 16 |  64\n",
      "5  | 25 |  125\n"
     ]
    }
   ],
   "source": [
    "num_used = int(input('Your Number '))\n",
    "\n",
    "print('number | squared | cubed')\n",
    "\n",
    "print('--- | ------ | ----')\n",
    "\n",
    "for x in range(1, num_used + 1):\n",
    "    print(x, ' |', x ** 2 , '| ', x ** 3)"
   ]
  },
  {
   "cell_type": "code",
   "execution_count": 232,
   "id": "b114a1f2",
   "metadata": {},
   "outputs": [
    {
     "name": "stdout",
     "output_type": "stream",
     "text": [
      "Input your grade here 86\n",
      "B\n",
      "Do you want to continue? Y/N y\n",
      "Input your grade here 90\n",
      "A\n",
      "Do you want to continue? Y/N N\n"
     ]
    }
   ],
   "source": [
    "while True:\n",
    "    \n",
    "    your_num = int(input('Input your grade here '))\n",
    "\n",
    "    if your_num >= 88:\n",
    "        \n",
    "        print('A')\n",
    "    \n",
    "    elif your_num >= 80:\n",
    "        \n",
    "        print('B')\n",
    "    \n",
    "    elif your_num >= 67:\n",
    "        print('C')\n",
    "        \n",
    "    elif your_num >= 60:\n",
    "        print('D')\n",
    "        \n",
    "    else:\n",
    "        \n",
    "        print('F')\n",
    "        \n",
    "    your_input = input('Do you want to continue? Y/N ')\n",
    "\n",
    "    if your_input.lower().strip() == 'n':\n",
    "        break"
   ]
  },
  {
   "cell_type": "code",
   "execution_count": 263,
   "id": "6def54f1",
   "metadata": {},
   "outputs": [
    {
     "name": "stdout",
     "output_type": "stream",
     "text": [
      "Title: Hunger Games.\n",
      "Author: Collins.\n",
      "Genre: Fantasy.\n",
      "{'title': 'Hunger Games', 'author': 'Collins', 'genre': 'Fantasy'}\n",
      "\n",
      "\n",
      "Title: Alchemist.\n",
      "Author: Coelho.\n",
      "Genre: Novel.\n",
      "{'title': 'Alchemist', 'author': 'Coelho', 'genre': 'Novel'}\n",
      "\n",
      "\n",
      "Title: Richest Man on Babylon.\n",
      "Author: Clayson.\n",
      "Genre: self-development.\n",
      "{'title': 'Richest Man on Babylon', 'author': 'Clayson', 'genre': 'self-development'}\n",
      "\n",
      "\n"
     ]
    }
   ],
   "source": [
    "books_read = [{'title': 'Hunger Games', 'author': 'Collins', 'genre': 'Fantasy'},\n",
    "             {'title': 'Alchemist', 'author': 'Coelho', 'genre': 'Novel'},\n",
    "             {'title': 'Richest Man on Babylon', 'author': 'Clayson', 'genre': 'self-development'}]\n",
    "\n",
    "for book in books_read:\n",
    "    \n",
    "    print('Title: {}.'.format(book['title']))\n",
    "    \n",
    "    print('Author: {}.'.format(book['author']))\n",
    "    \n",
    "    print('Genre: {}.'.format(book['genre']))\n",
    "    \n",
    "    print(book)\n",
    "    print('\\n')"
   ]
  },
  {
   "cell_type": "code",
   "execution_count": 254,
   "id": "06d65f07",
   "metadata": {},
   "outputs": [
    {
     "name": "stdout",
     "output_type": "stream",
     "text": [
      "Which genre interests you? self-development\n",
      "['Richest Man on Babylon']\n"
     ]
    }
   ],
   "source": [
    "your_genre = input('Which genre interests you? ')\n",
    "\n",
    "interesting_books = []\n",
    "\n",
    "for book in books_read:\n",
    "    \n",
    "    if book['genre'].strip().lower() == your_genre.strip().lower():\n",
    "       \n",
    "        interesting_books.append(book['title'])\n",
    "        \n",
    "print(interesting_books)       "
   ]
  },
  {
   "cell_type": "code",
   "execution_count": null,
   "id": "6fb47014",
   "metadata": {},
   "outputs": [],
   "source": []
  }
 ],
 "metadata": {
  "kernelspec": {
   "display_name": "Python 3 (ipykernel)",
   "language": "python",
   "name": "python3"
  },
  "language_info": {
   "codemirror_mode": {
    "name": "ipython",
    "version": 3
   },
   "file_extension": ".py",
   "mimetype": "text/x-python",
   "name": "python",
   "nbconvert_exporter": "python",
   "pygments_lexer": "ipython3",
   "version": "3.9.13"
  }
 },
 "nbformat": 4,
 "nbformat_minor": 5
}
