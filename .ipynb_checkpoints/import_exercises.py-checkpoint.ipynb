{
 "cells": [
  {
   "cell_type": "markdown",
   "id": "693e210d",
   "metadata": {},
   "source": [
    "1. Import and test 3 of the functions from your functions exercise file. Import each function in a different way:\n",
    "\n",
    " - Run an interactive python session and import the module. Call the is_vowel function using the . syntax.\n",
    " - Create a file named import_exericses.py. Within this file, use from to import the calculate_tip function directly. Call this function with values you choose and print the result.\n",
    " - Create a jupyter notebook named import_exercises.ipynb. Use from to import the get_letter_grade function and give it an alias. Test this function in your notebook."
   ]
  },
  {
   "cell_type": "code",
   "execution_count": null,
   "id": "1d2ec70e",
   "metadata": {},
   "outputs": [],
   "source": [
    "import test_mod"
   ]
  },
  {
   "cell_type": "code",
   "execution_count": 31,
   "id": "dc27feb0",
   "metadata": {},
   "outputs": [
    {
     "data": {
      "text/plain": [
       "True"
      ]
     },
     "execution_count": 31,
     "metadata": {},
     "output_type": "execute_result"
    }
   ],
   "source": [
    "is_vowel('a')"
   ]
  },
  {
   "cell_type": "code",
   "execution_count": 58,
   "id": "097c1e77",
   "metadata": {},
   "outputs": [],
   "source": [
    "from function_ex import calculate_tip"
   ]
  },
  {
   "cell_type": "code",
   "execution_count": 59,
   "id": "f73c0b10",
   "metadata": {},
   "outputs": [
    {
     "name": "stdout",
     "output_type": "stream",
     "text": [
      "What is your bill total?: $70\n",
      "What percent do you want to tip?: 7\n",
      "Your total tip is $4.9\n"
     ]
    }
   ],
   "source": [
    "calculate_tip()"
   ]
  },
  {
   "cell_type": "code",
   "execution_count": 92,
   "id": "5802039f",
   "metadata": {},
   "outputs": [],
   "source": [
    "from function_ex import get_letter_grade as gd"
   ]
  },
  {
   "cell_type": "code",
   "execution_count": null,
   "id": "c9f905a6",
   "metadata": {},
   "outputs": [],
   "source": []
  },
  {
   "cell_type": "markdown",
   "id": "2ace44e5",
   "metadata": {},
   "source": [
    "2. Read about and use the itertools module from the python standard library to help you solve the following problems:\n",
    "\n",
    " - How many different ways can you combine the letters from \"abc\" with the numbers 1, 2, and 3?\n",
    " - How many different combinations are there of 2 letters from \"abcd\"?\n",
    " - How many different permutations are there of 2 letters from \"abcd\"?\n"
   ]
  },
  {
   "cell_type": "code",
   "execution_count": 79,
   "id": "ca55ffb9",
   "metadata": {},
   "outputs": [],
   "source": [
    "import itertools"
   ]
  },
  {
   "cell_type": "code",
   "execution_count": 82,
   "id": "16dd9889",
   "metadata": {},
   "outputs": [
    {
     "data": {
      "text/plain": [
       "9"
      ]
     },
     "execution_count": 82,
     "metadata": {},
     "output_type": "execute_result"
    }
   ],
   "source": [
    "len(list(itertools.product('abc','123')))"
   ]
  },
  {
   "cell_type": "code",
   "execution_count": 91,
   "id": "7c6cbdf0",
   "metadata": {},
   "outputs": [
    {
     "data": {
      "text/plain": [
       "6"
      ]
     },
     "execution_count": 91,
     "metadata": {},
     "output_type": "execute_result"
    }
   ],
   "source": [
    "len(list(itertools.combinations('abcd', 2)))"
   ]
  },
  {
   "cell_type": "code",
   "execution_count": 90,
   "id": "17c43631",
   "metadata": {},
   "outputs": [
    {
     "data": {
      "text/plain": [
       "12"
      ]
     },
     "execution_count": 90,
     "metadata": {},
     "output_type": "execute_result"
    }
   ],
   "source": [
    "len(list(itertools.permutations('abcd', 2)))"
   ]
  },
  {
   "cell_type": "code",
   "execution_count": null,
   "id": "eeaa2df3",
   "metadata": {},
   "outputs": [],
   "source": []
  }
 ],
 "metadata": {
  "kernelspec": {
   "display_name": "Python 3 (ipykernel)",
   "language": "python",
   "name": "python3"
  },
  "language_info": {
   "codemirror_mode": {
    "name": "ipython",
    "version": 3
   },
   "file_extension": ".py",
   "mimetype": "text/x-python",
   "name": "python",
   "nbconvert_exporter": "python",
   "pygments_lexer": "ipython3",
   "version": "3.9.13"
  }
 },
 "nbformat": 4,
 "nbformat_minor": 5
}
