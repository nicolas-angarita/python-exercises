{
 "cells": [
  {
   "cell_type": "code",
   "execution_count": 58,
   "id": "a2d558e6",
   "metadata": {},
   "outputs": [
    {
     "name": "stdout",
     "output_type": "stream",
     "text": [
      "27\n"
     ]
    }
   ],
   "source": [
    "little_mermaid = 3\n",
    "brother_bear = 5\n",
    "hercules = 1\n",
    "\n",
    "price_day = 3\n",
    "\n",
    "total_day = (little_mermaid + brother_bear + hercules) * price_day\n",
    "\n",
    "print(total_day)"
   ]
  },
  {
   "cell_type": "code",
   "execution_count": 44,
   "id": "dad04e49",
   "metadata": {},
   "outputs": [
    {
     "name": "stdout",
     "output_type": "stream",
     "text": [
      "7420\n"
     ]
    }
   ],
   "source": [
    "google_rate = 400\n",
    "amazon_rate = 380\n",
    "facebook_rate = 350\n",
    "\n",
    "ghours = 6\n",
    "ahours = 4\n",
    "fhours = 10\n",
    "\n",
    "wrk_wk = (google_rate * ghours) + (amazon_rate * ahours) + (facebook_rate * fhours)\n",
    "\n",
    "print(wrk_wk)"
   ]
  },
  {
   "cell_type": "markdown",
   "id": "9a21f77a",
   "metadata": {},
   "source": [
    "A student can be enrolled to a class only if the class is not full and the class schedule does not conflict with her current schedule"
   ]
  },
  {
   "cell_type": "code",
   "execution_count": 43,
   "id": "f2b8b68c",
   "metadata": {},
   "outputs": [
    {
     "name": "stdout",
     "output_type": "stream",
     "text": [
      "True\n"
     ]
    }
   ],
   "source": [
    "class_open = True \n",
    "conflict = False\n",
    "\n",
    "can_enroll = class_open and not conflict\n",
    "\n",
    "print(can_enroll)"
   ]
  },
  {
   "cell_type": "markdown",
   "id": "3644c3b0",
   "metadata": {},
   "source": [
    "A product offer can be applied only if people buys more than 2 items, and the offer has not expired. Premium members do not need to buy a specific amount of products.\n"
   ]
  },
  {
   "cell_type": "code",
   "execution_count": 59,
   "id": "bb195713",
   "metadata": {},
   "outputs": [
    {
     "name": "stdout",
     "output_type": "stream",
     "text": [
      "True\n"
     ]
    }
   ],
   "source": [
    "cart_more_than_2 = True\n",
    "offer_valid = True\n",
    "premium_member = True\n",
    "\n",
    "apply_offer = premium_member and cart_more_than_2 and offer_valid\n",
    "\n",
    "print(apply_offer)\n",
    "\n",
    "\n",
    "# go over in review"
   ]
  },
  {
   "cell_type": "code",
   "execution_count": 67,
   "id": "6634d15d",
   "metadata": {},
   "outputs": [],
   "source": [
    "username = 'codeup'\n",
    "password = 'notastrongpassword'\n"
   ]
  },
  {
   "cell_type": "markdown",
   "id": "f6b2faf1",
   "metadata": {},
   "source": [
    "the password must be at least 5 characters\n"
   ]
  },
  {
   "cell_type": "code",
   "execution_count": 46,
   "id": "e4a23a68",
   "metadata": {},
   "outputs": [
    {
     "name": "stdout",
     "output_type": "stream",
     "text": [
      "True\n"
     ]
    }
   ],
   "source": [
    "p_length = len(password) >= 5\n",
    "\n",
    "print(p_length)"
   ]
  },
  {
   "cell_type": "markdown",
   "id": "05ab8b03",
   "metadata": {},
   "source": [
    "the username must be no more than 20 characters\n"
   ]
  },
  {
   "cell_type": "code",
   "execution_count": 47,
   "id": "631bc43a",
   "metadata": {},
   "outputs": [
    {
     "name": "stdout",
     "output_type": "stream",
     "text": [
      "True\n"
     ]
    }
   ],
   "source": [
    "u_length = len(username) <= 20\n",
    "\n",
    "print(u_length)"
   ]
  },
  {
   "cell_type": "markdown",
   "id": "6e58e7b8",
   "metadata": {},
   "source": [
    "the password must not be the same as the username\n"
   ]
  },
  {
   "cell_type": "code",
   "execution_count": 60,
   "id": "d7bbafec",
   "metadata": {},
   "outputs": [
    {
     "name": "stdout",
     "output_type": "stream",
     "text": [
      "True\n"
     ]
    }
   ],
   "source": [
    "up_diff = username != password\n",
    "\n",
    "print(up_diff)"
   ]
  },
  {
   "cell_type": "markdown",
   "id": "570e0883",
   "metadata": {},
   "source": [
    "bonus neither the username or password can start or end with whitespace\n"
   ]
  },
  {
   "cell_type": "code",
   "execution_count": 68,
   "id": "7eb449e8",
   "metadata": {},
   "outputs": [
    {
     "name": "stdout",
     "output_type": "stream",
     "text": [
      "True\n",
      "True\n"
     ]
    }
   ],
   "source": [
    "u_no_whitespace = not (username[0] == \" \" or username[-1] == \" \")\n",
    "p_no_whitespace = not (password[0] == \" \" or password[-1] == \" \")\n",
    "\n",
    "print(u_no_whitespace)\n",
    "\n",
    "print(p_no_whitespace)"
   ]
  },
  {
   "cell_type": "code",
   "execution_count": null,
   "id": "c4df47a2",
   "metadata": {},
   "outputs": [],
   "source": []
  }
 ],
 "metadata": {
  "kernelspec": {
   "display_name": "Python 3 (ipykernel)",
   "language": "python",
   "name": "python3"
  },
  "language_info": {
   "codemirror_mode": {
    "name": "ipython",
    "version": 3
   },
   "file_extension": ".py",
   "mimetype": "text/x-python",
   "name": "python",
   "nbconvert_exporter": "python",
   "pygments_lexer": "ipython3",
   "version": "3.9.13"
  }
 },
 "nbformat": 4,
 "nbformat_minor": 5
}
